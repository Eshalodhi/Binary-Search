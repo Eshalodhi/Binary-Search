{
  "nbformat": 4,
  "nbformat_minor": 0,
  "metadata": {
    "colab": {
      "provenance": [],
      "authorship_tag": "ABX9TyN+AZKsUxey0sxu00v7KRod",
      "include_colab_link": true
    },
    "kernelspec": {
      "name": "python3",
      "display_name": "Python 3"
    },
    "language_info": {
      "name": "python"
    }
  },
  "cells": [
    {
      "cell_type": "markdown",
      "metadata": {
        "id": "view-in-github",
        "colab_type": "text"
      },
      "source": [
        "<a href=\"https://colab.research.google.com/github/Eshalodhi/Binary-Search/blob/main/Binary_Search.ipynb\" target=\"_parent\"><img src=\"https://colab.research.google.com/assets/colab-badge.svg\" alt=\"Open In Colab\"/></a>"
      ]
    },
    {
      "cell_type": "markdown",
      "source": [
        "## Binary Search"
      ],
      "metadata": {
        "id": "b4WV7Tz4dj5P"
      }
    },
    {
      "cell_type": "code",
      "execution_count": 11,
      "metadata": {
        "colab": {
          "base_uri": "https://localhost:8080/"
        },
        "id": "Rh-V2gk1dfWO",
        "outputId": "a9b92371-88ab-46a6-e058-f8551a9d3c30"
      },
      "outputs": [
        {
          "output_type": "stream",
          "name": "stdout",
          "text": [
            "🔢 Binary Search Demo\n",
            "Enter a sorted list of numbers (comma-separated): 1, 3, 5, 7, 9, 11, 13\n",
            "Enter the number to search for: 7\n",
            "\n",
            "--- Iterative Search ---\n",
            "Checking middle index 3, value: 7\n",
            "✅ Found 7 at index 3 (iterative)\n",
            "\n",
            "--- Recursive Search ---\n",
            "Checking middle index 3, value: 7\n",
            "✅ Found 7 at index 3 (recursive)\n"
          ]
        }
      ],
      "source": [
        "# 🔍 Binary Search Project - Iterative & Recursive\n",
        "\n",
        "def binary_search_iterative(arr, target):\n",
        "    low = 0\n",
        "    high = len(arr) - 1\n",
        "\n",
        "    while low <= high:\n",
        "        mid = (low + high) // 2\n",
        "        print(f\"Checking middle index {mid}, value: {arr[mid]}\")\n",
        "\n",
        "        if arr[mid] == target:\n",
        "            return mid\n",
        "        elif arr[mid] < target:\n",
        "            low = mid + 1\n",
        "        else:\n",
        "            high = mid - 1\n",
        "\n",
        "    return -1\n",
        "\n",
        "\n",
        "def binary_search_recursive(arr, target, low, high):\n",
        "    if low > high:\n",
        "        return -1\n",
        "\n",
        "    mid = (low + high) // 2\n",
        "    print(f\"Checking middle index {mid}, value: {arr[mid]}\")\n",
        "\n",
        "    if arr[mid] == target:\n",
        "        return mid\n",
        "    elif arr[mid] < target:\n",
        "        return binary_search_recursive(arr, target, mid + 1, high)\n",
        "    else:\n",
        "        return binary_search_recursive(arr, target, low, mid - 1)\n",
        "\n",
        "\n",
        "# ✅ User Interaction in Colab\n",
        "print(\"🔢 Binary Search Demo\")\n",
        "nums_input = input(\"Enter a sorted list of numbers (comma-separated): \")\n",
        "nums = [int(x.strip()) for x in nums_input.split(\",\")]\n",
        "target = int(input(\"Enter the number to search for: \"))\n",
        "\n",
        "print(\"\\n--- Iterative Search ---\")\n",
        "index_iter = binary_search_iterative(nums, target)\n",
        "if index_iter != -1:\n",
        "    print(f\"✅ Found {target} at index {index_iter} (iterative)\")\n",
        "else:\n",
        "    print(f\"❌ {target} not found (iterative)\")\n",
        "\n",
        "print(\"\\n--- Recursive Search ---\")\n",
        "index_rec = binary_search_recursive(nums, target, 0, len(nums) - 1)\n",
        "if index_rec != -1:\n",
        "    print(f\"✅ Found {target} at index {index_rec} (recursive)\")\n",
        "else:\n",
        "    print(f\"❌ {target} not found (recursive)\")\n"
      ]
    }
  ]
}